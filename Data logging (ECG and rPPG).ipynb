{
 "cells": [
  {
   "cell_type": "code",
   "execution_count": 1,
   "id": "c0d64381",
   "metadata": {},
   "outputs": [],
   "source": [
    "#Python API for ltr11 is required\n",
    "#from ltr11 import ∗\n",
    "import ltr11\n",
    "import threading\n",
    "import concurrent.futures\n",
    "import time\n",
    "import pprint\n",
    "import queue\n",
    "import csv\n",
    "import serial\n",
    "import os\n",
    "import numpy as np\n",
    "import re\n",
    "import cv2\n",
    "import pyrealsense2 as rs"
   ]
  },
  {
   "cell_type": "code",
   "execution_count": 2,
   "id": "468a41ad",
   "metadata": {},
   "outputs": [],
   "source": [
    "def get_rPPG_data (event, queue) :\n",
    "    # Configure depth and color streams\n",
    "    flag = 0\n",
    "    pipeline = rs.pipeline()\n",
    "    config = rs.config()\n",
    "\n",
    "    # Get device product line for setting a supporting resolution\n",
    "    pipeline_wrapper = rs.pipeline_wrapper(pipeline)\n",
    "    pipeline_profile = config.resolve(pipeline_wrapper)\n",
    "    device = pipeline_profile.get_device()\n",
    "    device_product_line = str(device.get_info(rs.camera_info.product_line))\n",
    "\n",
    "    found_rgb = False\n",
    "    for s in device.sensors:\n",
    "        if s.get_info(rs.camera_info.name) == 'RGB Camera':\n",
    "            found_rgb = True\n",
    "            break\n",
    "    if not found_rgb:\n",
    "        print(\"The demo requires Depth camera with Color sensor\")\n",
    "        exit(0)\n",
    "\n",
    "    config.enable_stream(rs.stream.depth, 640, 480, rs.format.z16, 30)\n",
    "\n",
    "    if device_product_line == 'L500':\n",
    "        config.enable_stream(rs.stream.color, 960, 540, rs.format.bgr8, 30)\n",
    "    else:\n",
    "        config.enable_stream(rs.stream.color, 640, 480, rs.format.bgr8, 30)\n",
    "    profile = pipeline.start(config)\n",
    "    # Getting the depth sensor's depth scale (see rs-align example for explanation)\n",
    "    depth_sensor = profile.get_device().first_depth_sensor()\n",
    "    depth_scale = depth_sensor.get_depth_scale()\n",
    "    print(\"Depth Scale is: \" , depth_scale)\n",
    "\n",
    "    s=0\n",
    "    time_sequence = []\n",
    "    frame = 0\n",
    "    time_str = time.strftime(\"%Y%m%d-%H%M%S\")\n",
    "    writer = cv2.VideoWriter('rPPG original {}.mp4'.format(time_str), -1, 19, (640, 480))\n",
    "    writer1 = cv2.VideoWriter('rPPG depth {}.mp4'.format(time_str), -1, 19, (640, 480))\n",
    "\n",
    "    # Create an align object\n",
    "    # rs.align allows us to perform alignment of depth frames to others frames\n",
    "    # The \"align_to\" is the stream type to which we plan to align depth frames.\n",
    "    align_to = rs.stream.color\n",
    "    align = rs.align(align_to)\n",
    "\n",
    "    start_time = time.time()\n",
    "\n",
    "    while not event.is_set():\n",
    "        # Wait for a coherent pair of frames: depth and color\n",
    "        frames = pipeline.wait_for_frames() \n",
    "        # Align the depth frame to color frame\n",
    "        aligned_frames = align.process(frames)\n",
    "        # Get aligned frames\n",
    "        aligned_depth_frame = aligned_frames.get_depth_frame() # aligned_depth_frame is a 640x480 depth image\n",
    "        color_frame = aligned_frames.get_color_frame()\n",
    "\n",
    "        if not aligned_depth_frame or not color_frame:\n",
    "            print('no cohorent frames')\n",
    "            continue\n",
    "        frame_time = time.time()-start_time\n",
    "        time_sequence.append(frame_time)\n",
    "        frame = frame+1\n",
    "        # Convert images to numpy arrays\n",
    "        depth = np.asanyarray(aligned_depth_frame.get_data())\n",
    "        color_image = np.asanyarray(color_frame.get_data())\n",
    "        depth_image = cv2.convertScaleAbs(depth, alpha=255/2000)\n",
    "        \n",
    "        if flag == 0:\n",
    "            print('first rPPG data at {}'.format(time.time()))\n",
    "            flag = 1\n",
    "\n",
    "        #save the video\n",
    "        writer.write(color_image)\n",
    "        writer1.write(depth_image)\n",
    "        #writer1.write(depth_image)\n",
    "\n",
    "        # Display\n",
    "        cv2.imshow('img', color_image)\n",
    "        cv2.setWindowProperty('img', cv2.WND_PROP_TOPMOST, 1)\n",
    "\n",
    "        # Stop if escape key is pressed\n",
    "        if cv2.waitKey(1) & 0xFF == ord('q'):\n",
    "            pipeline.stop()\n",
    "            break\n",
    "    cv2. destroyAllWindows()\n",
    "    # Release the VideoCapture object\n",
    "    writer.release()\n",
    "    writer1.release()\n",
    "    run_time = time.time()-start_time\n",
    "    fps = frame/run_time\n",
    "\n",
    "    fname = \"{}-{}.csv\".format('rPPG original time sequence',time_str)\n",
    "    fpath = \"{}\".format(fname)\n",
    "    f = open(fpath, 'w', newline=\"\")\n",
    "    csv.writer(f).writerows(map(lambda x: [x], time_sequence))\n",
    "    f.close()\n",
    "    print(('--- %s seconds ---' %(run_time)))\n",
    "    print(('--- %s fps ---' %(fps)))"
   ]
  },
  {
   "cell_type": "code",
   "execution_count": 3,
   "id": "08f27345",
   "metadata": {},
   "outputs": [],
   "source": [
    "def get_ecg_data(event, serial, queue):\n",
    "    flag = True\n",
    "    try:\n",
    "        serial.close()\n",
    "        serial.open()\n",
    "        while not event.is_set():\n",
    "            data = []\n",
    "            for i in range(250):    # 500 Hz / 2\n",
    "                line = serial.readline()\n",
    "                #there are four values in the line_sequence = [-ECG1 -ECG2 -ECG3 -temperature sensor]\n",
    "                line_sequence = line.decode(\"utf-8\")\n",
    "                #print('This is the line_sequence from the serial port:{}'.format(line_sequence))\n",
    "                #use match function to record the ECG1\n",
    "                #match = re.findall(r'\\-?\\d+', line_sequence)\n",
    "                #data += [int(match[0])]\n",
    "                data += [int(line_sequence)]\n",
    "                #print('This is the ECG value selected from the serial port:{}'.format(int(match[0])))\n",
    "                if flag:\n",
    "                    print('first ecg data at {}'.format(time.time()))\n",
    "                    flag = False\n",
    "            for row in zip(data):\n",
    "                queue.put(row)\n",
    "        print('ecg stopped {}\\n'.format(time.time()))\n",
    "        serial.close()\n",
    "        print('serial port closed')\n",
    "        queue.put([])  #Prevent queue.get()  call getting stuck\n",
    "    except:\n",
    "        print('ecg error')\n",
    "        serial.close()\n",
    "        print('serial port closed')\n",
    "        queue.put([])  #Prevent queue.get()  call getting stuck\n",
    "        event.set()"
   ]
  },
  {
   "cell_type": "code",
   "execution_count": 4,
   "id": "5a391bcf",
   "metadata": {},
   "outputs": [],
   "source": [
    "def write_data(event, queue, f):\n",
    "    try:\n",
    "        wr = csv.writer(f)\n",
    "        while not (event.is_set() and queue.empty()):\n",
    "            #if event.is_set():\n",
    "                #print('event is set')\n",
    "                #if not queue.empty():\n",
    "                    #print('queue is still not empty!')\n",
    "            data = queue.get()\n",
    "            wr.writerow(data)\n",
    "        print('Closing {}'.format(os.path.basename(f.name)))\n",
    "        f.close()\n",
    "        print('{} closed'.format(os.path.basename(f.name)))\n",
    "    except:\n",
    "        print('{} writer error'.format(f))"
   ]
  },
  {
   "cell_type": "code",
   "execution_count": 5,
   "id": "da15e7cd",
   "metadata": {},
   "outputs": [],
   "source": [
    "def init():\n",
    "    print('init')\n",
    "    ax.set_xlim(0, 2*np.pi)\n",
    "    ax.set_ylim(-1, 1)\n",
    "    return ln,"
   ]
  },
  {
   "cell_type": "code",
   "execution_count": 6,
   "id": "cc322de8",
   "metadata": {},
   "outputs": [],
   "source": [
    "def update(frame):\n",
    "    print('update')\n",
    "    xdata.append(frame)\n",
    "    ydata.append(np.sin(frame))\n",
    "    ln.set_data(xdata, ydata)\n",
    "    return ln,"
   ]
  },
  {
   "cell_type": "code",
   "execution_count": 7,
   "id": "1a98fc99",
   "metadata": {},
   "outputs": [
    {
     "name": "stdout",
     "output_type": "stream",
     "text": [
      "starting threads\n",
      "Depth Scale is:  0.0010000000474974513\n",
      "first rPPG data at 1684401898.3801162\n",
      "first ecg data at 1684401899.175807\n",
      "--- 39.06999659538269 seconds ---\n",
      "--- 28.333762387141487 fps ---\n",
      "ecg stopped 1684401956.3227534\n",
      "\n",
      "serial port closed\n",
      "Closing 20230518-102456-ecg.csv\n",
      "20230518-102456-ecg.csv closed\n",
      "Radar result: None\n",
      "ECG writer result:None\n",
      "elapsed time = 59.538912534713745\n"
     ]
    }
   ],
   "source": [
    "if __name__ == \"__main__\":\n",
    "\n",
    "    # To capture video from webcam. \n",
    "    #cap = cv2.VideoCapture(0)\n",
    "\n",
    "    sample_dur = 40  # Sample duration in seconds\n",
    "    start = time.time()\n",
    "    timestr = time.strftime(\"%Y%m%d-%H%M%S\")\n",
    "    fname = \"{}-{}.csv\".format(timestr,'ecg')\n",
    "    fpath = \"{}\".format(fname)\n",
    "    f2 = open(fpath, 'w', newline=\"\")\n",
    "    \n",
    "    event = threading.Event()\n",
    "    #radar_pipeline = queue.Queue()\n",
    "    ecg_pipeline = queue.Queue()\n",
    "    rPPG_pipeline = queue.Queue()\n",
    "    \n",
    "    # Set up serial linstener\n",
    "    #serial_port = 'COM5'\n",
    "    #the serial_port used in my laptop is actually COM3 instead of COM5\n",
    "    serial_port = 'COM3'\n",
    "    #baud_rate = 250000\n",
    "    baud_rate = 921600\n",
    "    ser = serial.Serial(serial_port, baud_rate)\n",
    "    \n",
    "    with concurrent.futures.ThreadPoolExecutor(max_workers=4) as executor:\n",
    "        print('starting threads')\n",
    "        rPPG_thread = executor.submit(get_rPPG_data, event, rPPG_pipeline)\n",
    "        ecg_thread = executor.submit(get_ecg_data, event, ser, ecg_pipeline)\n",
    "        #radar_writer = executor.submit(write_data, event, radar_pipeline, f1)\n",
    "        ecg_writer = executor.submit(write_data, event, ecg_pipeline, f2)\n",
    "        try:\n",
    "            while not (ecg_thread.done() and ecg_writer.done() and rPPG_thread.done()):\n",
    "                if time.time() - start >= sample_dur:\n",
    "                    event.set()\n",
    "                else:\n",
    "                    time.sleep(0.5)\n",
    "                    \n",
    "        except KeyboardInterrupt:\n",
    "            print('Keyboard Interrupt')\n",
    "            event.set()\n",
    "            \n",
    "        #print('Radar result: {}'.format(radar_thread.result()))\n",
    "        print('Radar result: {}'.format(ecg_thread.result()))\n",
    "        #print('Radar writer result:{}'.format(radar_writer.result()))\n",
    "        print('ECG writer result:{}'.format(ecg_writer.result()))\n",
    "        print('elapsed time = {}'.format(time.time() - start))\n",
    "        \n",
    "        \n",
    "        "
   ]
  },
  {
   "cell_type": "code",
   "execution_count": 8,
   "id": "b6e615f5",
   "metadata": {},
   "outputs": [
    {
     "data": {
      "text/plain": [
       "0.7910058498382568"
      ]
     },
     "execution_count": 8,
     "metadata": {},
     "output_type": "execute_result"
    }
   ],
   "source": [
    "1684232138.6692643-1684232137.8782585"
   ]
  },
  {
   "cell_type": "code",
   "execution_count": 9,
   "id": "4c84be87",
   "metadata": {},
   "outputs": [
    {
     "data": {
      "text/plain": [
       "0.7855803966522217"
      ]
     },
     "execution_count": 9,
     "metadata": {},
     "output_type": "execute_result"
    }
   ],
   "source": [
    "1684233955.6374514-1684233954.851871"
   ]
  },
  {
   "cell_type": "code",
   "execution_count": 11,
   "id": "d45e6b4f",
   "metadata": {
    "scrolled": false
   },
   "outputs": [
    {
     "data": {
      "text/plain": [
       "0.7956908000001022"
      ]
     },
     "execution_count": 11,
     "metadata": {},
     "output_type": "execute_result"
    }
   ],
   "source": [
    "1899.175807-1898.3801162"
   ]
  },
  {
   "cell_type": "code",
   "execution_count": null,
   "id": "d763b967",
   "metadata": {},
   "outputs": [],
   "source": []
  }
 ],
 "metadata": {
  "kernelspec": {
   "display_name": "Python 3",
   "language": "python",
   "name": "python3"
  },
  "language_info": {
   "codemirror_mode": {
    "name": "ipython",
    "version": 3
   },
   "file_extension": ".py",
   "mimetype": "text/x-python",
   "name": "python",
   "nbconvert_exporter": "python",
   "pygments_lexer": "ipython3",
   "version": "3.8.8"
  }
 },
 "nbformat": 4,
 "nbformat_minor": 5
}
