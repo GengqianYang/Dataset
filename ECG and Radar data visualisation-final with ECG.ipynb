{
 "cells": [
  {
   "cell_type": "code",
   "execution_count": 1,
   "id": "45a126f3",
   "metadata": {},
   "outputs": [],
   "source": [
    "import matplotlib.pyplot as plt\n",
    "import csv\n",
    "import heartpy as hp\n",
    "import numpy as np\n",
    "from sklearn.decomposition import FastICA\n",
    "import scipy\n",
    "from scipy import signal\n",
    "import statistics\n",
    "import statsmodels.api as sm\n",
    "from scipy.stats.kde import gaussian_kde"
   ]
  },
  {
   "cell_type": "code",
   "execution_count": 2,
   "id": "0e1e0e37",
   "metadata": {},
   "outputs": [],
   "source": [
    "x_ECG = []\n",
    "x_radar = []\n",
    "ECG = []\n",
    "time_ECG = []\n",
    "time_radar= []\n",
    "I = []\n",
    "Q = []\n",
    "time_difference=1.34\n",
    "\n",
    "\n",
    "with open('C://Users//gy299//20230517-141844-ecg.csv','r') as csvfile:\n",
    "    lines = csv.reader(csvfile, delimiter=',')\n",
    "    for row in lines:\n",
    "        ECG.append((int(row[0])))\n",
    "\n",
    "with open('C://Users//gy299//20230517-141844-radar.csv','r') as csvfile:\n",
    "    lines = csv.reader(csvfile, delimiter=',')\n",
    "    for row in lines:\n",
    "        I.append((float(row[0])))\n",
    "        Q.append(float(row[1]))\n",
    "\n",
    "length=len(ECG)\n",
    "for i in range(1,length+1):\n",
    "    x_ECG.append(i)\n",
    "    time_ECG.append(0.002*i)\n",
    "\n",
    "length=len(I)\n",
    "for i in range(1,length+1):\n",
    "    x_radar.append(i)\n",
    "    time_radar.append(0.0005*i)\n",
    "\n",
    "flag=True\n",
    "for i in range(len(time_radar)):\n",
    "    true_time=time_radar[i]-time_difference\n",
    "    if true_time>=0 and flag==True:\n",
    "        index=i\n",
    "        flag=False\n",
    "\n",
    "time_radar=time_radar[index:]\n",
    "time_radar=[x-time_difference for x in time_radar]\n",
    "I=I[index:]\n",
    "Q=Q[index:]\n",
    "\n",
    "#DC component removal\n",
    "I=scipy.signal.detrend(I, axis=-1, type='constant', bp=0, overwrite_data=False)\n",
    "Q=scipy.signal.detrend(Q, axis=-1, type='constant', bp=0, overwrite_data=False)"
   ]
  },
  {
   "cell_type": "code",
   "execution_count": null,
   "id": "c3175b58",
   "metadata": {},
   "outputs": [],
   "source": [
    "#raw ECG signal plot\n",
    "plt.figure(figsize=(12,4))\n",
    "plt.plot(time_ECG,ECG, color = 'g')\n",
    "plt.xlabel('time(sec)')\n",
    "plt.ylabel('amplitude')\n",
    "plt.title('Raw ECG signal')\n",
    "plt.show()\n",
    "plt.figure(figsize=(12,4))\n",
    "plt.plot(time_ECG,ECG, color = 'g')\n",
    "plt.xlabel('time(sec)')\n",
    "plt.ylabel('amplitude')\n",
    "plt.xlim(0,10)\n",
    "plt.title('A closer look at the raw ECG signal')\n",
    "plt.show()"
   ]
  },
  {
   "cell_type": "code",
   "execution_count": null,
   "id": "9a9d919d",
   "metadata": {},
   "outputs": [],
   "source": [
    "sample_rate=500\n",
    "#detrend the ECG signal to remove the baseline drift\n",
    "detrended_ECG = signal.detrend(ECG)\n",
    "#apply bandpass filtering on the detrended ECG signal\n",
    "filtered_ECG = hp.filter_signal(detrended_ECG, cutoff = [2,40], sample_rate = sample_rate,order = 6, filtertype= 'bandpass')"
   ]
  },
  {
   "cell_type": "code",
   "execution_count": null,
   "id": "e90f559c",
   "metadata": {},
   "outputs": [],
   "source": [
    "plt.figure(figsize=(12,4))\n",
    "plt.plot(time_ECG,filtered_ECG, color = 'g')\n",
    "plt.xlabel('time(sec)')\n",
    "plt.ylabel('amplitude')\n",
    "plt.title('ECG signal after detrending and filtering')\n",
    "plt.show()\n",
    "plt.figure(figsize=(12,4))\n",
    "plt.plot(time_ECG,filtered_ECG, color = 'g')\n",
    "plt.xlabel('time(sec)')\n",
    "plt.ylabel('amplitude')\n",
    "plt.xlim(0,10)\n",
    "plt.title('A closer look at the ECG signal after detrending and filtering')\n",
    "plt.show()"
   ]
  },
  {
   "cell_type": "code",
   "execution_count": null,
   "id": "16cd33ba",
   "metadata": {},
   "outputs": [],
   "source": [
    "wd, m = hp.process(filtered_ECG, sample_rate, calc_freq=False,freq_method='fft')"
   ]
  },
  {
   "cell_type": "code",
   "execution_count": null,
   "id": "01964db7",
   "metadata": {},
   "outputs": [],
   "source": [
    "plt.figure(figsize=(12,4))\n",
    "plot_object = hp.plotter(wd, m, show=False)\n",
    "#plot_object.savefig('result.jpg') #saves the plot as JPEG image.\n",
    "plot_object.show() #displays plot\n",
    "#display measures computed\n",
    "for measure in m.keys():\n",
    "    print('%s: %f' %(measure, m[measure]))"
   ]
  },
  {
   "cell_type": "code",
   "execution_count": null,
   "id": "5ef8b6b2",
   "metadata": {},
   "outputs": [],
   "source": [
    "array=np.array(wd['peaklist'])/sample_rate"
   ]
  },
  {
   "cell_type": "code",
   "execution_count": null,
   "id": "e091bbe7",
   "metadata": {},
   "outputs": [],
   "source": [
    "#raw radar signal plot\n",
    "plt.figure(figsize=(12,4))\n",
    "plt.plot(time_radar,I, color = 'g',label='radar_I')\n",
    "plt.plot(time_radar, Q, color = 'b', label='radar_Q')\n",
    "plt.xlabel('time(sec)')\n",
    "plt.ylabel('amplitude')\n",
    "plt.vlines(x = array, ymin=-100,ymax=500,\n",
    "           colors = 'r',linestyles='dotted',\n",
    "           label = 'R_peak')\n",
    "plt.ylim(0,1)\n",
    "plt.legend()\n",
    "plt.title('raw radar signal')\n",
    "plt.show()"
   ]
  },
  {
   "cell_type": "code",
   "execution_count": null,
   "id": "f06a33a0",
   "metadata": {},
   "outputs": [],
   "source": [
    "#apply bandpass filtering on the radar I/Q channels\n",
    "#cutoff= [15,25]\n",
    "#cutoff=[0.7,3]\n",
    "cutoff=[25,40]\n",
    "sample_rate=2000\n",
    "filtered_I = hp.filter_signal(I, cutoff = cutoff, sample_rate = sample_rate,order = 4, filtertype= 'bandpass')\n",
    "filtered_Q = hp.filter_signal(Q, cutoff = cutoff, sample_rate = sample_rate,order = 4, filtertype= 'bandpass')"
   ]
  },
  {
   "cell_type": "code",
   "execution_count": null,
   "id": "76217d1b",
   "metadata": {},
   "outputs": [],
   "source": [
    "def moving_average(x, w):\n",
    "    return np.convolve(x, np.ones(w), 'valid')"
   ]
  },
  {
   "cell_type": "code",
   "execution_count": null,
   "id": "3529a7b7",
   "metadata": {},
   "outputs": [],
   "source": [
    "complex_signal=np.zeros(len(I), dtype='complex')\n",
    "complex_signal.imag=filtered_I\n",
    "complex_signal.real=filtered_Q\n",
    "IQ=np.abs(complex_signal)\n",
    "\n",
    "#IQ_smooth = signal.savgol_filter(IQ, window_length=667, polyorder=10, mode=\"mirror\")\n",
    "#IQ_ma=moving_average(IQ_smooth,500)\n",
    "IQ_f=hp.filter_signal(IQ, cutoff = [0.7,3], sample_rate = sample_rate,order = 2, filtertype= 'bandpass')\n",
    "IQ_smooth = signal.savgol_filter(IQ_f, window_length=667, polyorder=10, mode=\"mirror\")\n",
    "IQ_ma=moving_average(IQ_smooth,500)"
   ]
  },
  {
   "cell_type": "code",
   "execution_count": null,
   "id": "76260228",
   "metadata": {},
   "outputs": [],
   "source": [
    "plt.figure(figsize=(12,4))\n",
    "plt.plot(time_radar[499:],IQ_ma, color = 'g',label='IQ after applying moving average filter and smooth filter')\n",
    "plt.vlines(x = array, ymin=-2*((10)**(-19)),ymax=2*((10)**(-19)),\n",
    "           colors = 'r',linestyles='dotted',\n",
    "           label = 'R_peak')\n",
    "plt.ylim(-2*((10)**(-19)),2*((10)**(-19)))\n",
    "plt.xlabel('time')\n",
    "plt.ylabel('magnitude')\n",
    "plt.title('IQ_ma')\n",
    "plt.show()"
   ]
  },
  {
   "cell_type": "code",
   "execution_count": null,
   "id": "68f627ac",
   "metadata": {},
   "outputs": [],
   "source": [
    "wd, m = hp.process(IQ_ma, sample_rate, calc_freq=False,freq_method='fft',bpmmin=40, bpmmax=180,reject_segmentwise=False)"
   ]
  },
  {
   "cell_type": "code",
   "execution_count": null,
   "id": "fbc95dc0",
   "metadata": {
    "scrolled": true
   },
   "outputs": [],
   "source": [
    "#good quality segments: 110250 10-50; 113414 10-39;\n",
    "start_time=0\n",
    "end_time=30\n",
    "sample_rate=2000\n",
    "wd, m = hp.process(IQ_ma[sample_rate*start_time:sample_rate*end_time], sample_rate, calc_freq=False,freq_method='fft', bpmmin=40, bpmmax=180)"
   ]
  },
  {
   "cell_type": "code",
   "execution_count": null,
   "id": "d24ead48",
   "metadata": {},
   "outputs": [],
   "source": [
    "new_array=[]\n",
    "for i in range(len(array)):\n",
    "    if array[i]>=start_time and array[i]<=end_time:\n",
    "        new_array.append(array[i]-start_time)\n",
    "plt.figure(figsize=(12,4))\n",
    "plot_object = hp.plotter(wd, m, show=False)\n",
    "plt.vlines(x = array, ymin=1*((10)**(-19)),ymax=5*((10)**(-19)),\n",
    "           colors = 'r',linestyles='dotted',\n",
    "           label = 'R_peak')\n",
    "#plt.ylim(1*((10)**(-19)),5*((10)**(-19)))\n",
    "plt.legend()\n",
    "#plot_object.savefig('result.jpg') #saves the plot as JPEG image.\n",
    "plot_object.show() #displays plot\n",
    "\n",
    "\n",
    "#display measures computed\n",
    "for measure in m.keys():\n",
    "    print('%s: %f' %(measure, m[measure]))"
   ]
  },
  {
   "cell_type": "code",
   "execution_count": null,
   "id": "b27e780a",
   "metadata": {},
   "outputs": [],
   "source": [
    "#find peaks function (prominence-distance-based method)\n",
    "from scipy.signal import find_peaks\n",
    "sample_rate=2000\n",
    "IBI_list_radar=[]\n",
    "HR_list_radar=[]\n",
    "data = IQ_ma\n",
    "print(abs(data.mean()*1000))\n",
    "peaks, properties = find_peaks(data, distance=667,prominence=(0.01*abs(data.mean()*1000), None),width=None, height=None)\n",
    "for i in range(1, len(peaks)):\n",
    "    IBI_list_radar.append((peaks[i]-peaks[i-1])/2000)\n",
    "\n",
    "HR_list_radar=[60/x for x in IBI_list_radar]\n",
    "print('Pulse Number: {}'.format(len(peaks)))\n",
    "print('The average IBI is {} ms'.format(round(statistics.mean(IBI_list_radar)*1000,2)))\n",
    "print('HR: {} bpm'.format(round(statistics.mean(HR_list_radar),2)))\n",
    "\n",
    "plt.figure(figsize=(12,4))\n",
    "plt.plot(time_radar[499:],data)\n",
    "peak_index = [time_radar[499:][x] for x in peaks]\n",
    "plt.plot(peak_index, data[peaks], \"o\",color = 'g')\n",
    "plt.vlines(x = array, ymin=-2*((10)**(-19)),ymax=2*((10)**(-19)),\n",
    "           colors = 'r',linestyles='dotted',\n",
    "           label = 'R_peak')\n",
    "plt.ylim(-2*((10)**(-19)),2*((10)**(-19)))\n",
    "plt.ylim()\n",
    "plt.show()"
   ]
  },
  {
   "cell_type": "code",
   "execution_count": null,
   "id": "899cf8ef",
   "metadata": {},
   "outputs": [],
   "source": [
    "new_array =[]\n",
    "new_peak_index = []\n",
    "IBI_list_ECG = []\n",
    "IBI_list_radar = []\n",
    "time_range =[0,30]\n",
    "for index in array:\n",
    "    if index>time_range[0] and index<time_range[1]:\n",
    "        new_array.append(index)\n",
    "for index in peak_index:\n",
    "    if index>time_range[0] and index<time_range[1]:\n",
    "        new_peak_index.append(index)\n",
    "for i in range(1, len(new_array)):\n",
    "    IBI_list_ECG.append((new_array[i]-new_array[i-1]))\n",
    "for i in range(1, len(new_peak_index)):\n",
    "    IBI_list_radar.append((new_peak_index[i]-new_peak_index[i-1]))\n",
    "\n",
    "HR_ECG = [60/x for x in IBI_list_ECG]\n",
    "HR_radar = [60/x for x in IBI_list_radar]\n",
    "\n",
    "print(len(IBI_list_radar))\n",
    "print(len(IBI_list_ECG))\n",
    "#print(IBI_list_rPPG)\n",
    "#print(IBI_list_ECG)\n",
    "print('ECG: {} bpm'.format(np.mean(HR_ECG)))\n",
    "print('rPPG: {} bpm'.format(np.mean(HR_radar)))"
   ]
  },
  {
   "cell_type": "code",
   "execution_count": null,
   "id": "bb8a92ff",
   "metadata": {},
   "outputs": [],
   "source": [
    "plt.figure(figsize=(12,4))\n",
    "plt.plot(time_radar[499:],data,label='rPPG')\n",
    "peak_index = [time_radar[499:][x] for x in peaks]\n",
    "plt.plot(peak_index, data[peaks], \"o\",color='g')\n",
    "plt.vlines(x = array, ymin=-2*((10)**(-19)),ymax=2*((10)**(-19)),\n",
    "           colors = 'r',linestyles='dotted',\n",
    "           label = 'R_peak')\n",
    "plt.ylim(-2*((10)**(-19)),2*((10)**(-19)))\n",
    "plt.xlim(time_range[0],time_range[1])\n",
    "plt.legend()\n",
    "plt.show()"
   ]
  },
  {
   "cell_type": "code",
   "execution_count": null,
   "id": "090bfd59",
   "metadata": {},
   "outputs": [],
   "source": [
    "if len(HR_ECG)==len(HR_radar):\n",
    "    print('synchronised')\n",
    "    plt.figure(figsize=(12,4))\n",
    "    plt.plot(HR_ECG,color='g',label='HR_ECG')\n",
    "    plt.plot(HR_radar,color='b',label='HR_radar')\n",
    "    plt.ylabel('bpm')\n",
    "    plt.xlabel('nth HR estimation')\n",
    "    plt.legend()\n",
    "    plt.title('Comparison between the HR estimations from ECG and Radar')\n",
    "    plt.show()\n",
    "\n",
    "    MAE=0\n",
    "    AE=0\n",
    "    for i in range(len(HR_ECG)):\n",
    "        #print(abs(HR_ECG[i]-HR_radar[i]))\n",
    "        MAE+=abs(HR_ECG[i]-HR_radar[i])\n",
    "        AE+=(abs(HR_ECG[i]-HR_radar[i])/HR_ECG[i])*100\n",
    "    \n",
    "    MAE = MAE/len(HR_ECG)\n",
    "    AE = AE/len(HR_ECG)\n",
    "    print('The Mean Absolute Error is: {} bpm\\nThe Average Error is: {} %'.format(MAE,AE))\n",
    "else:\n",
    "    print('desynchronised!')"
   ]
  },
  {
   "cell_type": "code",
   "execution_count": null,
   "id": "7ae902eb",
   "metadata": {},
   "outputs": [],
   "source": [
    "import statsmodels.api as sm\n",
    "ecg=[]\n",
    "radar=[]"
   ]
  },
  {
   "cell_type": "code",
   "execution_count": null,
   "id": "01de5e0c",
   "metadata": {},
   "outputs": [],
   "source": [
    "ecg=ecg+HR_ECG\n",
    "radar=radar+HR_radar"
   ]
  },
  {
   "cell_type": "code",
   "execution_count": null,
   "id": "5c601850",
   "metadata": {},
   "outputs": [],
   "source": [
    "f, ax = plt.subplots(1, figsize = (8,5))\n",
    "sm.graphics.mean_diff_plot(np.array(ecg), np.array(radar), ax = ax)\n",
    "plt.xlabel('Mean of HR_ECG and HR_radar')\n",
    "plt.ylabel('Mean difference (bmp)')\n",
    "plt.title('bland-altman plot')\n",
    "plt.show()"
   ]
  },
  {
   "cell_type": "code",
   "execution_count": null,
   "id": "c030d3ec",
   "metadata": {},
   "outputs": [],
   "source": [
    "IBI_list_ECG = [(60/x)*1000 for x in ecg]\n",
    "IBI_list_radar = [(60/x)*1000 for x in radar]"
   ]
  },
  {
   "cell_type": "code",
   "execution_count": null,
   "id": "d77bdef7",
   "metadata": {},
   "outputs": [],
   "source": [
    "IBI_list_ECG = [x*1000 for x in IBI_list_ECG]\n",
    "IBI_list_radar =[x*1000 for x in IBI_list_radar]"
   ]
  },
  {
   "cell_type": "code",
   "execution_count": null,
   "id": "798a0364",
   "metadata": {},
   "outputs": [],
   "source": [
    "plt.figure(figsize=(12,5))\n",
    "plt.hist((IBI_list_ECG, IBI_list_radar),bins=30, histtype='bar', rwidth=0.85, label=('IBI_ECG','IBI_radar'),color=('g','b'),density=True)\n",
    "\n",
    "mn, mx = plt.xlim()\n",
    "plt.xlim(mn, mx)\n",
    "kde_xs = np.linspace(mn, mx, 500)\n",
    "kde = gaussian_kde(IBI_list_ECG)\n",
    "plt.plot(kde_xs, kde.pdf(kde_xs), label=\"PDF_ECG\",color='g')\n",
    "\n",
    "kde_xs = np.linspace(mn, mx, 500)\n",
    "kde = gaussian_kde(IBI_list_radar)\n",
    "plt.plot(kde_xs, kde.pdf(kde_xs), label=\"PDF_radar\",color='b')\n",
    "\n",
    "plt.xlabel('interbeat interval (IBI) [ms]')\n",
    "plt.ylabel('Probability density [%]')\n",
    "plt.title('Histogram of IBI distribution of ECG and radar')\n",
    "plt.legend()\n",
    "plt.show() \n",
    "\n",
    "plt.figure(figsize=(12,5))\n",
    "plt.hist((IBI_list_ECG, IBI_list_radar),bins=20, histtype='bar', rwidth=0.85, label=('IBI_ECG','IBI_radar'),color=('g','b'), density=True)\n",
    "mn, mx = plt.xlim()\n",
    "plt.xlim(mn, mx)\n",
    "kde_xs = np.linspace(mn, mx, 500)\n",
    "kde = gaussian_kde(IBI_list_ECG)\n",
    "plt.plot(kde_xs, kde.pdf(kde_xs), label=\"PDF_ECG\",color='g')\n",
    "\n",
    "kde_xs = np.linspace(mn, mx, 500)\n",
    "kde = gaussian_kde(IBI_list_radar)\n",
    "plt.plot(kde_xs, kde.pdf(kde_xs), label=\"PDF_radar\",color='b')\n",
    "plt.xlabel('interbeat interval (IBI) [ms]')\n",
    "plt.ylabel('Probability density [%]')\n",
    "plt.title('Histogram of IBI distribution of ECG and radar')\n",
    "plt.legend()\n",
    "plt.show() \n",
    "\n",
    "\n",
    "plt.figure(figsize=(12,5))\n",
    "plt.hist((IBI_list_ECG, IBI_list_radar),bins=10, histtype='bar', rwidth=0.85, label=('IBI_ECG','IBI_radar'),color=('g','b'), density=True)\n",
    "mn, mx = plt.xlim()\n",
    "plt.xlim(mn, mx)\n",
    "kde_xs = np.linspace(mn, mx, 500)\n",
    "kde = gaussian_kde(IBI_list_ECG)\n",
    "plt.plot(kde_xs, kde.pdf(kde_xs), label=\"PDF_ECG\",color='g')\n",
    "\n",
    "kde_xs = np.linspace(mn, mx, 500)\n",
    "kde = gaussian_kde(IBI_list_radar)\n",
    "plt.plot(kde_xs, kde.pdf(kde_xs), label=\"PDF_rPPG\",color='b')\n",
    "plt.xlabel('interbeat interval (IBI) [ms]')\n",
    "plt.ylabel('Probability density [%]')\n",
    "plt.title('Histogram of IBI distribution of ECG and radar')\n",
    "plt.legend()\n",
    "plt.show() "
   ]
  },
  {
   "cell_type": "code",
   "execution_count": null,
   "id": "8fa951ea",
   "metadata": {},
   "outputs": [],
   "source": [
    "print(len(IBI_list_ECG))"
   ]
  },
  {
   "cell_type": "code",
   "execution_count": null,
   "id": "b158c1ec",
   "metadata": {},
   "outputs": [],
   "source": []
  }
 ],
 "metadata": {
  "kernelspec": {
   "display_name": "Python 3",
   "language": "python",
   "name": "python3"
  },
  "language_info": {
   "codemirror_mode": {
    "name": "ipython",
    "version": 3
   },
   "file_extension": ".py",
   "mimetype": "text/x-python",
   "name": "python",
   "nbconvert_exporter": "python",
   "pygments_lexer": "ipython3",
   "version": "3.8.8"
  }
 },
 "nbformat": 4,
 "nbformat_minor": 5
}
