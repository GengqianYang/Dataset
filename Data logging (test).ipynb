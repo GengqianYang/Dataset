{
 "cells": [
  {
   "cell_type": "code",
   "execution_count": 1,
   "id": "c0d64381",
   "metadata": {},
   "outputs": [],
   "source": [
    "#Python API for ltr11 is required\n",
    "from ltr11 import *\n",
    "import threading\n",
    "import concurrent.futures\n",
    "import time\n",
    "import pprint\n",
    "import queue\n",
    "import csv\n",
    "import serial\n",
    "import os\n",
    "import numpy as np\n",
    "import re"
   ]
  },
  {
   "cell_type": "code",
   "execution_count": 2,
   "id": "c379f4bf",
   "metadata": {},
   "outputs": [],
   "source": [
    "def get_radar_data (event, queue) :\n",
    "# Accesses IQ data on BGT60LTR11 radar board and passes into a queue\n",
    "    flag = True\n",
    "    try:\n",
    "        with BGT60LTR11() as ltr11 :\n",
    "            ltr11.set_configuration(mode = 0)  # 0 = continuous, 1 = pulse\n",
    "            config = ltr11.get_configuration( )\n",
    "            print(\"Configuration:\")\n",
    "            pprint.pprint(ltr11.get_configuration( ))\n",
    "            ltr11.start_data_acquisition( )\n",
    "\n",
    "            while not event.is_set( ) :\n",
    "                ifi ,ifq = ltr11.get_data(1000) # 2 kHz / 2\n",
    "                if flag:\n",
    "                    radar_time=time.time()\n",
    "                    print('first radar data at {}'.format(radar_time))\n",
    "                    flag = False\n",
    "                data = zip(ifi.tolist(),ifq.tolist())\n",
    "                for row in data :\n",
    "                    queue.put(row)\n",
    "            print('radar stopped {}'.format(time.time()))\n",
    "            ltr11.stop_data_acquisition()\n",
    "            print('radar acquisition stopped')\n",
    "    except:\n",
    "        print('Exception: Is the radar board connected?')\n",
    "        event.set()"
   ]
  },
  {
   "cell_type": "code",
   "execution_count": 3,
   "id": "08f27345",
   "metadata": {},
   "outputs": [],
   "source": [
    "def get_ecg_data(event, serial, queue):\n",
    "    flag = True\n",
    "    try:\n",
    "        serial.close()\n",
    "        serial.open()\n",
    "        while not event.is_set():\n",
    "            data = []\n",
    "            for i in range(250):    # 500 Hz / 2\n",
    "                line = serial.readline()\n",
    "                #there are four values in the line_sequence = [-ECG1 -ECG2 -ECG3 -temperature sensor]\n",
    "                line_sequence = line.decode(\"utf-8\")\n",
    "                #print('This is the line_sequence from the serial port:{}'.format(line_sequence))\n",
    "                #use match function to record the ECG1\n",
    "                #match = re.findall(r'\\-?\\d+', line_sequence)\n",
    "                #data += [int(match[1])]\n",
    "                data += [int(line_sequence)]\n",
    "                #print('This is the ECG value selected from the serial port:{}'.format(int(match[1])))\n",
    "                if flag:\n",
    "                    ECG_time=time.time()\n",
    "                    print('first ecg data at {}'.format(ECG_time))\n",
    "                    flag = False\n",
    "            for row in zip(data):\n",
    "                queue.put(row)\n",
    "        print('ecg stopped {}/n'.format(time.time()))\n",
    "        serial.close()\n",
    "        print('serial port closed')\n",
    "        queue.put([])  #Prevent queue.get()  call getting stuck\n",
    "    except:\n",
    "        print('ecg error')\n",
    "        serial.close()\n",
    "        print('serial port closed')\n",
    "        queue.put([])  #Prevent queue.get()  call getting stuck\n",
    "        event.set()"
   ]
  },
  {
   "cell_type": "code",
   "execution_count": 4,
   "id": "5a391bcf",
   "metadata": {},
   "outputs": [],
   "source": [
    "def write_data(event, queue, f):\n",
    "    try:\n",
    "        wr = csv.writer(f)\n",
    "        while not (event.is_set() and queue.empty()):\n",
    "            data = queue.get()\n",
    "            wr.writerow(data)\n",
    "        print('Closing {}'.format(os.path.basename(f.name)))\n",
    "        f.close()\n",
    "        print('{} closed'.format(os.path.basename(f.name)))\n",
    "    except:\n",
    "        print('{} writer error'.format(f))"
   ]
  },
  {
   "cell_type": "code",
   "execution_count": 5,
   "id": "da15e7cd",
   "metadata": {},
   "outputs": [],
   "source": [
    "def init():\n",
    "    print('init')\n",
    "    ax.set_xlim(0, 2*np.pi)\n",
    "    ax.set_ylim(-1, 1)\n",
    "    return ln,"
   ]
  },
  {
   "cell_type": "code",
   "execution_count": 6,
   "id": "cc322de8",
   "metadata": {},
   "outputs": [],
   "source": [
    "def update(frame):\n",
    "    print('update')\n",
    "    xdata.append(frame)\n",
    "    ydata.append(np.sin(frame))\n",
    "    ln.set_data(xdata, ydata)\n",
    "    return ln,"
   ]
  },
  {
   "cell_type": "code",
   "execution_count": 7,
   "id": "1a98fc99",
   "metadata": {},
   "outputs": [
    {
     "name": "stdout",
     "output_type": "stream",
     "text": [
      "starting threads\n",
      "Configuration:\n",
      "{'adc': 0,\n",
      " 'detection_threshold': 0,\n",
      " 'hold_time': 4,\n",
      " 'mode': 0,\n",
      " 'pulse_repetition': 1,\n",
      " 'pulse_width': 0,\n",
      " 'rf_center_freq': 1,\n",
      " 'rx_if_gain': 8,\n",
      " 'sampling_frequency': 2000,\n",
      " 'tx_power_level': 7}\n",
      "first radar data at 1684336520.0666323\n",
      "first ecg data at 1684336521.3712604\n",
      "ecg stopped 1684336555.035552/nClosing 20230517-161519-ecg.csv\n",
      "\n",
      "20230517-161519-ecg.csv closedserial port closed\n",
      "\n",
      "radar stopped 1684336555.06426\n",
      "radar acquisition stopped\n",
      "Closing 20230517-161519-radar.csv\n",
      "20230517-161519-radar.csv closed\n",
      "Radar result: None\n",
      "ECG result: None\n",
      "Radar writer result:None\n",
      "ECG writer result:None\n",
      "elapsed time = 35.6523003578186\n"
     ]
    }
   ],
   "source": [
    "if __name__ == \"__main__\":\n",
    "    sample_dur = 35  # Sample duration in seconds\n",
    "    start = time.time()\n",
    "    timestr = time.strftime(\"%Y%m%d-%H%M%S\")\n",
    "    fname = \"{}-{}.csv\".format(timestr,'radar')\n",
    "    #fpath = \"../logs/{}\".format(fname)\n",
    "    fpath = \"{}\".format(fname)\n",
    "    f1 = open(fpath, 'w', newline=\"\")\n",
    "    fname = \"{}-{}.csv\".format(timestr,'ecg')\n",
    "    #fpath = \"../logs/{}\".format(fname)\n",
    "    fpath = \"{}\".format(fname)\n",
    "    f2 = open(fpath, 'w', newline=\"\")\n",
    "    \n",
    "    event = threading.Event()\n",
    "    radar_pipeline = queue.Queue()\n",
    "    ecg_pipeline = queue.Queue()\n",
    "    \n",
    "    # Set up serial linstener\n",
    "    #serial_port = 'COM5'\n",
    "    #the serial_port used in my laptop is actually COM3 instead of COM5\n",
    "    serial_port = 'COM3'\n",
    "    baud_rate = 921600;\n",
    "    ser = serial.Serial(serial_port, baud_rate)\n",
    "    \n",
    "    with concurrent.futures.ThreadPoolExecutor(max_workers=None) as executor:\n",
    "        print('starting threads')\n",
    "        radar_thread = executor.submit(get_radar_data, event, radar_pipeline)\n",
    "        ecg_thread = executor.submit(get_ecg_data, event, ser, ecg_pipeline)\n",
    "        radar_writer = executor.submit(write_data, event, radar_pipeline, f1)\n",
    "        ecg_writer = executor.submit(write_data, event, ecg_pipeline, f2)\n",
    "        try:\n",
    "            while not (radar_thread.done() and ecg_thread.done() and radar_writer.done() and ecg_writer.done()):\n",
    "                if time.time() - start >= sample_dur:\n",
    "                    event.set()\n",
    "                    time.sleep(0.1)\n",
    "                else:\n",
    "                    time.sleep(0.5)\n",
    "                    \n",
    "        except KeyboardInterrupt:\n",
    "            print('Keyboard Interrupt')\n",
    "            event.set()\n",
    "       \n",
    "            \n",
    "        print('Radar result: {}'.format(radar_thread.result()))\n",
    "        print('ECG result: {}'.format(ecg_thread.result()))\n",
    "        print('Radar writer result:{}'.format(radar_writer.result()))\n",
    "        print('ECG writer result:{}'.format(ecg_writer.result()))\n",
    "        print('elapsed time = {}'.format(time.time() - start))\n",
    "        "
   ]
  },
  {
   "cell_type": "code",
   "execution_count": 8,
   "id": "b6e615f5",
   "metadata": {},
   "outputs": [
    {
     "data": {
      "text/plain": [
       "1.3220861999999998"
      ]
     },
     "execution_count": 8,
     "metadata": {},
     "output_type": "execute_result"
    }
   ],
   "source": [
    "5.192809-3.8707228"
   ]
  },
  {
   "cell_type": "code",
   "execution_count": null,
   "id": "4c84be87",
   "metadata": {},
   "outputs": [],
   "source": []
  }
 ],
 "metadata": {
  "kernelspec": {
   "display_name": "Python 3",
   "language": "python",
   "name": "python3"
  },
  "language_info": {
   "codemirror_mode": {
    "name": "ipython",
    "version": 3
   },
   "file_extension": ".py",
   "mimetype": "text/x-python",
   "name": "python",
   "nbconvert_exporter": "python",
   "pygments_lexer": "ipython3",
   "version": "3.8.8"
  }
 },
 "nbformat": 4,
 "nbformat_minor": 5
}
